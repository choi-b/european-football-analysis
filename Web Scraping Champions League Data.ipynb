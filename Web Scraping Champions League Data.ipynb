{
 "cells": [
  {
   "cell_type": "markdown",
   "id": "69e9fbae",
   "metadata": {},
   "source": [
    "#### Some websites block access. Make sure you're able to access it\n",
    "* Then you can right click + inspect page to help navigate the HTML file\n"
   ]
  },
  {
   "cell_type": "code",
   "execution_count": 1,
   "id": "4871346d",
   "metadata": {},
   "outputs": [
    {
     "ename": "NameError",
     "evalue": "name 'bs4' is not defined",
     "output_type": "error",
     "traceback": [
      "\u001b[1;31m---------------------------------------------------------------------------\u001b[0m",
      "\u001b[1;31mNameError\u001b[0m                                 Traceback (most recent call last)",
      "\u001b[1;32m~\\AppData\\Local\\Temp\\ipykernel_11324\\1246238480.py\u001b[0m in \u001b[0;36m<module>\u001b[1;34m\u001b[0m\n\u001b[0;32m      6\u001b[0m \u001b[0mpage\u001b[0m \u001b[1;33m=\u001b[0m \u001b[0mrequests\u001b[0m\u001b[1;33m.\u001b[0m\u001b[0mget\u001b[0m\u001b[1;33m(\u001b[0m\u001b[0mURL\u001b[0m\u001b[1;33m)\u001b[0m\u001b[1;33m\u001b[0m\u001b[1;33m\u001b[0m\u001b[0m\n\u001b[0;32m      7\u001b[0m \u001b[0mcontent\u001b[0m \u001b[1;33m=\u001b[0m \u001b[0mpage\u001b[0m\u001b[1;33m.\u001b[0m\u001b[0mtext\u001b[0m\u001b[1;33m\u001b[0m\u001b[1;33m\u001b[0m\u001b[0m\n\u001b[1;32m----> 8\u001b[1;33m \u001b[0msoup\u001b[0m \u001b[1;33m=\u001b[0m \u001b[0mbs4\u001b[0m\u001b[1;33m.\u001b[0m\u001b[0mBeautifulSoup\u001b[0m\u001b[1;33m(\u001b[0m\u001b[0mcontent\u001b[0m\u001b[1;33m,\u001b[0m \u001b[1;34m'lxml'\u001b[0m\u001b[1;33m)\u001b[0m\u001b[1;33m\u001b[0m\u001b[1;33m\u001b[0m\u001b[0m\n\u001b[0m\u001b[0;32m      9\u001b[0m \u001b[0mtable\u001b[0m \u001b[1;33m=\u001b[0m \u001b[0msoup\u001b[0m\u001b[1;33m.\u001b[0m\u001b[0mfind\u001b[0m\u001b[1;33m(\u001b[0m\u001b[1;34m'table'\u001b[0m\u001b[1;33m)\u001b[0m\u001b[1;33m\u001b[0m\u001b[1;33m\u001b[0m\u001b[0m\n\u001b[0;32m     10\u001b[0m \u001b[0mrows\u001b[0m \u001b[1;33m=\u001b[0m \u001b[0mtable\u001b[0m\u001b[1;33m.\u001b[0m\u001b[0mfind_all\u001b[0m\u001b[1;33m(\u001b[0m\u001b[1;34m'tr'\u001b[0m\u001b[1;33m)\u001b[0m\u001b[1;33m\u001b[0m\u001b[1;33m\u001b[0m\u001b[0m\n",
      "\u001b[1;31mNameError\u001b[0m: name 'bs4' is not defined"
     ]
    }
   ],
   "source": [
    "import requests \n",
    "\n",
    "#This page just shows all of the group stages (aka teams that made the tournament stage)\n",
    "#which is all we need for our purposes\n",
    "URL = \"https://fbref.com/en/comps/8/2015-2016/schedule/2015-2016-Champions-League-Scores-and-Fixtures\"\n",
    "page = requests.get(URL)\n",
    "content = page.text\n",
    "soup = bs4.BeautifulSoup(content, 'lxml')\n",
    "table = soup.find('table')\n",
    "rows = table.find_all('tr')"
   ]
  },
  {
   "cell_type": "code",
   "execution_count": null,
   "id": "5cea5e69",
   "metadata": {},
   "outputs": [],
   "source": [
    "print(soup.prettify())"
   ]
  },
  {
   "cell_type": "markdown",
   "id": "836f2692",
   "metadata": {},
   "source": [
    "#### In our case, all the data we need are within the table, inside the \"td\" tag\n",
    "* We can just try to get all the team names in the \"Home\" column since each team plays at home at least once (3 times to be exact)."
   ]
  },
  {
   "cell_type": "code",
   "execution_count": null,
   "id": "82be5dbe",
   "metadata": {},
   "outputs": [],
   "source": [
    "for row in rows:\n",
    "    home_team = row.find('td', {'data-stat':'home_team'})\n",
    "    print(home_team)"
   ]
  },
  {
   "cell_type": "code",
   "execution_count": null,
   "id": "49330916",
   "metadata": {},
   "outputs": [],
   "source": [
    "for row in rows:\n",
    "    home_team = row.find('td', {'data-stat':'home_team'})\n",
    "    if home_team:\n",
    "        home_team = home_team.text\n",
    "        print(home_team)"
   ]
  },
  {
   "cell_type": "markdown",
   "id": "93154c52",
   "metadata": {},
   "source": [
    "#### Now we can save the contents of the print statement:"
   ]
  },
  {
   "cell_type": "code",
   "execution_count": null,
   "id": "ae86f43a",
   "metadata": {},
   "outputs": [],
   "source": [
    "team_list = [] #Store it in a list\n",
    "\n",
    "for row in rows:\n",
    "    home_team = row.find('td', {'data-stat':'home_team'})\n",
    "    if home_team:\n",
    "        home_team = home_team.text\n",
    "        print(home_team)\n",
    "        team_list.append(home_team)\n"
   ]
  },
  {
   "cell_type": "code",
   "execution_count": null,
   "id": "1e10324f",
   "metadata": {},
   "outputs": [],
   "source": [
    "team_list"
   ]
  },
  {
   "cell_type": "markdown",
   "id": "789bffbb",
   "metadata": {},
   "source": [
    "Now just need to <b>drop the last word</b>  (country abbreviated code) in each element and also remove any duplicates"
   ]
  },
  {
   "cell_type": "code",
   "execution_count": null,
   "id": "b677b535",
   "metadata": {},
   "outputs": [],
   "source": []
  }
 ],
 "metadata": {
  "kernelspec": {
   "display_name": "Python 3 (ipykernel)",
   "language": "python",
   "name": "python3"
  },
  "language_info": {
   "codemirror_mode": {
    "name": "ipython",
    "version": 3
   },
   "file_extension": ".py",
   "mimetype": "text/x-python",
   "name": "python",
   "nbconvert_exporter": "python",
   "pygments_lexer": "ipython3",
   "version": "3.7.13"
  }
 },
 "nbformat": 4,
 "nbformat_minor": 5
}
